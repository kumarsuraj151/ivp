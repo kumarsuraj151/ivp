{
  "nbformat": 4,
  "nbformat_minor": 0,
  "metadata": {
    "colab": {
      "provenance": [],
      "authorship_tag": "ABX9TyN7tTIyjf2mOLezME8qlZJX",
      "include_colab_link": true
    },
    "kernelspec": {
      "name": "python3",
      "display_name": "Python 3"
    },
    "language_info": {
      "name": "python"
    }
  },
  "cells": [
    {
      "cell_type": "markdown",
      "metadata": {
        "id": "view-in-github",
        "colab_type": "text"
      },
      "source": [
        "<a href=\"https://colab.research.google.com/github/kumarsuraj151/ivp/blob/main/assignment5/assig5_ai21btech11029.ipynb\" target=\"_parent\"><img src=\"https://colab.research.google.com/assets/colab-badge.svg\" alt=\"Open In Colab\"/></a>"
      ]
    },
    {
      "cell_type": "code",
      "execution_count": 6,
      "metadata": {
        "id": "ssY_D53oL29c"
      },
      "outputs": [],
      "source": [
        "import numpy as np\n",
        "import matplotlib.pyplot as plt\n",
        "from PIL import Image"
      ]
    },
    {
      "cell_type": "markdown",
      "source": [
        "## Periodic Convolution"
      ],
      "metadata": {
        "id": "iW0rGxJMQrVB"
      }
    },
    {
      "cell_type": "code",
      "source": [
        "I=Image.open()"
      ],
      "metadata": {
        "id": "AI4Y4QGWajov"
      },
      "execution_count": null,
      "outputs": []
    },
    {
      "cell_type": "code",
      "source": [
        "def circular_convolve(image, filter):\n",
        "    M, N = image.shape\n",
        "    P, Q = filter.shape\n",
        "\n",
        "    convolved_image = np.zeros_like(image,dtype=image.dtype)\n",
        "    for i in range(M):\n",
        "        for j in range(N):\n",
        "            for k in range(P):\n",
        "                for l in range(Q):\n",
        "                    convolved_image[i, j] += image[(i-k) % M, (j-l) % N] * filter[k, l]\n",
        "\n",
        "    return convolved_image"
      ],
      "metadata": {
        "id": "VP307OETQxhd"
      },
      "execution_count": 7,
      "outputs": []
    },
    {
      "cell_type": "code",
      "source": [
        "filter_size=5\n",
        "filter=np.ones((filter_size,filter_size))/(np.square(filter_size))\n"
      ],
      "metadata": {
        "id": "zC7SA5BkTE-G"
      },
      "execution_count": 9,
      "outputs": []
    }
  ]
}